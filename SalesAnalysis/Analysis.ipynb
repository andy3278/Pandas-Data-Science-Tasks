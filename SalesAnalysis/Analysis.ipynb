{
 "cells": [
  {
   "cell_type": "markdown",
   "metadata": {
    "collapsed": true,
    "pycharm": {
     "name": "#%% md\n"
    }
   },
   "source": [
    "## import necessary library"
   ]
  },
  {
   "cell_type": "code",
   "execution_count": null,
   "outputs": [],
   "source": [],
   "metadata": {
    "collapsed": false,
    "pycharm": {
     "name": "#%%\n"
    }
   }
  },
  {
   "cell_type": "code",
   "execution_count": 1,
   "outputs": [],
   "source": [
    "import pandas as pd"
   ],
   "metadata": {
    "collapsed": false,
    "pycharm": {
     "name": "#%%\n"
    }
   }
  },
  {
   "cell_type": "markdown",
   "source": [
    "### Task 1 merge all 12 months sales data into 1 csv file"
   ],
   "metadata": {
    "collapsed": false,
    "pycharm": {
     "name": "#%% md\n"
    }
   }
  },
  {
   "cell_type": "code",
   "execution_count": 3,
   "outputs": [
    {
     "data": {
      "text/plain": "['./Sales_Data/Sales_December_2019.csv',\n './Sales_Data/Sales_April_2019.csv',\n './Sales_Data/Sales_February_2019.csv',\n './Sales_Data/Sales_March_2019.csv',\n './Sales_Data/Sales_August_2019.csv',\n './Sales_Data/Sales_May_2019.csv',\n './Sales_Data/Sales_November_2019.csv',\n './Sales_Data/Sales_October_2019.csv',\n './Sales_Data/Sales_January_2019.csv',\n './Sales_Data/Sales_September_2019.csv',\n './Sales_Data/Sales_July_2019.csv',\n './Sales_Data/Sales_June_2019.csv']"
     },
     "execution_count": 3,
     "metadata": {},
     "output_type": "execute_result"
    }
   ],
   "source": [
    "import glob\n",
    "\n",
    "path = r'./Sales_Data'\n",
    "all_files = glob.glob(path + \"/*.csv\")\n",
    "all_files"
   ],
   "metadata": {
    "collapsed": false,
    "pycharm": {
     "name": "#%%\n"
    }
   }
  },
  {
   "cell_type": "code",
   "execution_count": 14,
   "outputs": [
    {
     "name": "stdout",
     "output_type": "stream",
     "text": [
      "(25117, 6)\n",
      "(18383, 6)\n",
      "(12036, 6)\n",
      "(15226, 6)\n",
      "(12011, 6)\n",
      "(16635, 6)\n",
      "(17661, 6)\n",
      "(20379, 6)\n",
      "(9723, 6)\n",
      "(11686, 6)\n",
      "(14371, 6)\n",
      "(13622, 6)\n"
     ]
    }
   ],
   "source": [
    "for f in all_files:\n",
    "    df = pd.read_csv(f)\n",
    "    print(df.shape)"
   ],
   "metadata": {
    "collapsed": false,
    "pycharm": {
     "name": "#%%\n"
    }
   }
  },
  {
   "cell_type": "code",
   "execution_count": 27,
   "outputs": [],
   "source": [
    "df_from_each_file = (pd.read_csv(f, sep=',') for f in all_files)\n",
    "df_merged = pd.concat(df_from_each_file, ignore_index=True)\n",
    "df_merged.to_csv(\"merged.csv\", index=False)"
   ],
   "metadata": {
    "collapsed": false,
    "pycharm": {
     "name": "#%%\n"
    }
   }
  },
  {
   "cell_type": "code",
   "execution_count": 30,
   "outputs": [
    {
     "data": {
      "text/plain": "(186850, 6)"
     },
     "execution_count": 30,
     "metadata": {},
     "output_type": "execute_result"
    }
   ],
   "source": [
    "# take a look at the merged csv\n",
    "merged = pd.read_csv('merged.csv')\n",
    "#merged.reset_index(drop=True, inplace=True)\n",
    "merged.shape"
   ],
   "metadata": {
    "collapsed": false,
    "pycharm": {
     "name": "#%%\n"
    }
   }
  },
  {
   "cell_type": "code",
   "execution_count": 31,
   "outputs": [
    {
     "data": {
      "text/plain": "  Order ID                     Product Quantity Ordered Price Each  \\\n0   295665          Macbook Pro Laptop                1       1700   \n1   295666          LG Washing Machine                1      600.0   \n2   295667        USB-C Charging Cable                1      11.95   \n3   295668            27in FHD Monitor                1     149.99   \n4   295669        USB-C Charging Cable                1      11.95   \n5   295670       AA Batteries (4-pack)                1       3.84   \n6   295671        USB-C Charging Cable                1      11.95   \n7   295672        USB-C Charging Cable                2      11.95   \n8   295673  Bose SoundSport Headphones                1      99.99   \n9   295674      AAA Batteries (4-pack)                4       2.99   \n\n       Order Date                           Purchase Address  \n0  12/30/19 00:01     136 Church St, New York City, NY 10001  \n1  12/29/19 07:03        562 2nd St, New York City, NY 10001  \n2  12/12/19 18:21       277 Main St, New York City, NY 10001  \n3  12/22/19 15:13        410 6th St, San Francisco, CA 94016  \n4  12/18/19 12:38              43 Hill St, Atlanta, GA 30301  \n5  12/31/19 22:58  200 Jefferson St, New York City, NY 10001  \n6  12/16/19 15:10            928 12th St, Portland, OR 97035  \n7  12/13/19 09:29           813 Hickory St, Dallas, TX 75001  \n8  12/15/19 23:26            718 Wilson St, Dallas, TX 75001  \n9  12/28/19 11:51                77 7th St, Dallas, TX 75001  ",
      "text/html": "<div>\n<style scoped>\n    .dataframe tbody tr th:only-of-type {\n        vertical-align: middle;\n    }\n\n    .dataframe tbody tr th {\n        vertical-align: top;\n    }\n\n    .dataframe thead th {\n        text-align: right;\n    }\n</style>\n<table border=\"1\" class=\"dataframe\">\n  <thead>\n    <tr style=\"text-align: right;\">\n      <th></th>\n      <th>Order ID</th>\n      <th>Product</th>\n      <th>Quantity Ordered</th>\n      <th>Price Each</th>\n      <th>Order Date</th>\n      <th>Purchase Address</th>\n    </tr>\n  </thead>\n  <tbody>\n    <tr>\n      <th>0</th>\n      <td>295665</td>\n      <td>Macbook Pro Laptop</td>\n      <td>1</td>\n      <td>1700</td>\n      <td>12/30/19 00:01</td>\n      <td>136 Church St, New York City, NY 10001</td>\n    </tr>\n    <tr>\n      <th>1</th>\n      <td>295666</td>\n      <td>LG Washing Machine</td>\n      <td>1</td>\n      <td>600.0</td>\n      <td>12/29/19 07:03</td>\n      <td>562 2nd St, New York City, NY 10001</td>\n    </tr>\n    <tr>\n      <th>2</th>\n      <td>295667</td>\n      <td>USB-C Charging Cable</td>\n      <td>1</td>\n      <td>11.95</td>\n      <td>12/12/19 18:21</td>\n      <td>277 Main St, New York City, NY 10001</td>\n    </tr>\n    <tr>\n      <th>3</th>\n      <td>295668</td>\n      <td>27in FHD Monitor</td>\n      <td>1</td>\n      <td>149.99</td>\n      <td>12/22/19 15:13</td>\n      <td>410 6th St, San Francisco, CA 94016</td>\n    </tr>\n    <tr>\n      <th>4</th>\n      <td>295669</td>\n      <td>USB-C Charging Cable</td>\n      <td>1</td>\n      <td>11.95</td>\n      <td>12/18/19 12:38</td>\n      <td>43 Hill St, Atlanta, GA 30301</td>\n    </tr>\n    <tr>\n      <th>5</th>\n      <td>295670</td>\n      <td>AA Batteries (4-pack)</td>\n      <td>1</td>\n      <td>3.84</td>\n      <td>12/31/19 22:58</td>\n      <td>200 Jefferson St, New York City, NY 10001</td>\n    </tr>\n    <tr>\n      <th>6</th>\n      <td>295671</td>\n      <td>USB-C Charging Cable</td>\n      <td>1</td>\n      <td>11.95</td>\n      <td>12/16/19 15:10</td>\n      <td>928 12th St, Portland, OR 97035</td>\n    </tr>\n    <tr>\n      <th>7</th>\n      <td>295672</td>\n      <td>USB-C Charging Cable</td>\n      <td>2</td>\n      <td>11.95</td>\n      <td>12/13/19 09:29</td>\n      <td>813 Hickory St, Dallas, TX 75001</td>\n    </tr>\n    <tr>\n      <th>8</th>\n      <td>295673</td>\n      <td>Bose SoundSport Headphones</td>\n      <td>1</td>\n      <td>99.99</td>\n      <td>12/15/19 23:26</td>\n      <td>718 Wilson St, Dallas, TX 75001</td>\n    </tr>\n    <tr>\n      <th>9</th>\n      <td>295674</td>\n      <td>AAA Batteries (4-pack)</td>\n      <td>4</td>\n      <td>2.99</td>\n      <td>12/28/19 11:51</td>\n      <td>77 7th St, Dallas, TX 75001</td>\n    </tr>\n  </tbody>\n</table>\n</div>"
     },
     "execution_count": 31,
     "metadata": {},
     "output_type": "execute_result"
    }
   ],
   "source": [
    "merged.head(10)"
   ],
   "metadata": {
    "collapsed": false,
    "pycharm": {
     "name": "#%%\n"
    }
   }
  },
  {
   "cell_type": "markdown",
   "source": [
    "### Drop NAN rows"
   ],
   "metadata": {
    "collapsed": false
   }
  },
  {
   "cell_type": "code",
   "execution_count": 48,
   "outputs": [],
   "source": [
    "merged.dropna(how='all', inplace=True)\n",
    "#"
   ],
   "metadata": {
    "collapsed": false,
    "pycharm": {
     "name": "#%%\n"
    }
   }
  },
  {
   "cell_type": "markdown",
   "source": [
    "### Question1 What was the best month for sales? How much was earned that month?"
   ],
   "metadata": {
    "collapsed": false,
    "pycharm": {
     "name": "#%% md\n"
    }
   }
  },
  {
   "cell_type": "markdown",
   "source": [
    "### Add Month Column"
   ],
   "metadata": {
    "collapsed": false
   }
  },
  {
   "cell_type": "code",
   "execution_count": 55,
   "outputs": [
    {
     "data": {
      "text/plain": "    Order ID                 Product Quantity Ordered Price Each  \\\n0     295665      Macbook Pro Laptop                1       1700   \n1     295666      LG Washing Machine                1      600.0   \n2     295667    USB-C Charging Cable                1      11.95   \n3     295668        27in FHD Monitor                1     149.99   \n4     295669    USB-C Charging Cable                1      11.95   \n..       ...                     ...              ...        ...   \n297   295941         ThinkPad Laptop                1     999.99   \n298   295942            Google Phone                1        600   \n299   295943  AAA Batteries (4-pack)                3       2.99   \n300   295944  27in 4K Gaming Monitor                1     389.99   \n301   295945        Wired Headphones                1      11.99   \n\n         Order Date                        Purchase Address  Month of Order  \n0    12/30/19 00:01  136 Church St, New York City, NY 10001              12  \n1    12/29/19 07:03     562 2nd St, New York City, NY 10001              12  \n2    12/12/19 18:21    277 Main St, New York City, NY 10001              12  \n3    12/22/19 15:13     410 6th St, San Francisco, CA 94016              12  \n4    12/18/19 12:38           43 Hill St, Atlanta, GA 30301              12  \n..              ...                                     ...             ...  \n297  12/31/19 16:24       64 Dogwood St, Portland, OR 97035              12  \n298  12/30/19 19:21          150 North St, Boston, MA 02215              12  \n299  12/04/19 13:32         701 Sunset St, Dallas, TX 75001              12  \n300  12/29/19 17:04    175 Main St, San Francisco, CA 94016              12  \n301  12/06/19 10:20         207 Sunset St, Austin, TX 73301              12  \n\n[300 rows x 7 columns]",
      "text/html": "<div>\n<style scoped>\n    .dataframe tbody tr th:only-of-type {\n        vertical-align: middle;\n    }\n\n    .dataframe tbody tr th {\n        vertical-align: top;\n    }\n\n    .dataframe thead th {\n        text-align: right;\n    }\n</style>\n<table border=\"1\" class=\"dataframe\">\n  <thead>\n    <tr style=\"text-align: right;\">\n      <th></th>\n      <th>Order ID</th>\n      <th>Product</th>\n      <th>Quantity Ordered</th>\n      <th>Price Each</th>\n      <th>Order Date</th>\n      <th>Purchase Address</th>\n      <th>Month of Order</th>\n    </tr>\n  </thead>\n  <tbody>\n    <tr>\n      <th>0</th>\n      <td>295665</td>\n      <td>Macbook Pro Laptop</td>\n      <td>1</td>\n      <td>1700</td>\n      <td>12/30/19 00:01</td>\n      <td>136 Church St, New York City, NY 10001</td>\n      <td>12</td>\n    </tr>\n    <tr>\n      <th>1</th>\n      <td>295666</td>\n      <td>LG Washing Machine</td>\n      <td>1</td>\n      <td>600.0</td>\n      <td>12/29/19 07:03</td>\n      <td>562 2nd St, New York City, NY 10001</td>\n      <td>12</td>\n    </tr>\n    <tr>\n      <th>2</th>\n      <td>295667</td>\n      <td>USB-C Charging Cable</td>\n      <td>1</td>\n      <td>11.95</td>\n      <td>12/12/19 18:21</td>\n      <td>277 Main St, New York City, NY 10001</td>\n      <td>12</td>\n    </tr>\n    <tr>\n      <th>3</th>\n      <td>295668</td>\n      <td>27in FHD Monitor</td>\n      <td>1</td>\n      <td>149.99</td>\n      <td>12/22/19 15:13</td>\n      <td>410 6th St, San Francisco, CA 94016</td>\n      <td>12</td>\n    </tr>\n    <tr>\n      <th>4</th>\n      <td>295669</td>\n      <td>USB-C Charging Cable</td>\n      <td>1</td>\n      <td>11.95</td>\n      <td>12/18/19 12:38</td>\n      <td>43 Hill St, Atlanta, GA 30301</td>\n      <td>12</td>\n    </tr>\n    <tr>\n      <th>...</th>\n      <td>...</td>\n      <td>...</td>\n      <td>...</td>\n      <td>...</td>\n      <td>...</td>\n      <td>...</td>\n      <td>...</td>\n    </tr>\n    <tr>\n      <th>297</th>\n      <td>295941</td>\n      <td>ThinkPad Laptop</td>\n      <td>1</td>\n      <td>999.99</td>\n      <td>12/31/19 16:24</td>\n      <td>64 Dogwood St, Portland, OR 97035</td>\n      <td>12</td>\n    </tr>\n    <tr>\n      <th>298</th>\n      <td>295942</td>\n      <td>Google Phone</td>\n      <td>1</td>\n      <td>600</td>\n      <td>12/30/19 19:21</td>\n      <td>150 North St, Boston, MA 02215</td>\n      <td>12</td>\n    </tr>\n    <tr>\n      <th>299</th>\n      <td>295943</td>\n      <td>AAA Batteries (4-pack)</td>\n      <td>3</td>\n      <td>2.99</td>\n      <td>12/04/19 13:32</td>\n      <td>701 Sunset St, Dallas, TX 75001</td>\n      <td>12</td>\n    </tr>\n    <tr>\n      <th>300</th>\n      <td>295944</td>\n      <td>27in 4K Gaming Monitor</td>\n      <td>1</td>\n      <td>389.99</td>\n      <td>12/29/19 17:04</td>\n      <td>175 Main St, San Francisco, CA 94016</td>\n      <td>12</td>\n    </tr>\n    <tr>\n      <th>301</th>\n      <td>295945</td>\n      <td>Wired Headphones</td>\n      <td>1</td>\n      <td>11.99</td>\n      <td>12/06/19 10:20</td>\n      <td>207 Sunset St, Austin, TX 73301</td>\n      <td>12</td>\n    </tr>\n  </tbody>\n</table>\n<p>300 rows × 7 columns</p>\n</div>"
     },
     "execution_count": 55,
     "metadata": {},
     "output_type": "execute_result"
    }
   ],
   "source": [
    "merged['Month of Order'] = merged['Order Date'].str[:2]\n",
    "merged = merged[merged['Month of Order'] != 'Or']\n",
    "merged.reset_index()\n",
    "merged['Month of Order'] = merged['Month of Order'].astype('int32')\n",
    "merged.head(300)"
   ],
   "metadata": {
    "collapsed": false,
    "pycharm": {
     "name": "#%%\n"
    }
   }
  },
  {
   "cell_type": "code",
   "execution_count": 57,
   "outputs": [],
   "source": [
    "merged['Price Each'] = pd.to_numeric(merged['Price Each'])\n",
    "merged['Quantity Ordered'] = pd.to_numeric(merged['Quantity Ordered'])\n"
   ],
   "metadata": {
    "collapsed": false,
    "pycharm": {
     "name": "#%%\n"
    }
   }
  },
  {
   "cell_type": "code",
   "execution_count": 58,
   "outputs": [
    {
     "data": {
      "text/plain": "  Order ID               Product  Quantity Ordered  Price Each  \\\n0   295665    Macbook Pro Laptop                 1     1700.00   \n1   295666    LG Washing Machine                 1      600.00   \n2   295667  USB-C Charging Cable                 1       11.95   \n3   295668      27in FHD Monitor                 1      149.99   \n4   295669  USB-C Charging Cable                 1       11.95   \n\n       Order Date                        Purchase Address  Month of Order  \\\n0  12/30/19 00:01  136 Church St, New York City, NY 10001              12   \n1  12/29/19 07:03     562 2nd St, New York City, NY 10001              12   \n2  12/12/19 18:21    277 Main St, New York City, NY 10001              12   \n3  12/22/19 15:13     410 6th St, San Francisco, CA 94016              12   \n4  12/18/19 12:38           43 Hill St, Atlanta, GA 30301              12   \n\n   Total Price  \n0      1700.00  \n1       600.00  \n2        11.95  \n3       149.99  \n4        11.95  ",
      "text/html": "<div>\n<style scoped>\n    .dataframe tbody tr th:only-of-type {\n        vertical-align: middle;\n    }\n\n    .dataframe tbody tr th {\n        vertical-align: top;\n    }\n\n    .dataframe thead th {\n        text-align: right;\n    }\n</style>\n<table border=\"1\" class=\"dataframe\">\n  <thead>\n    <tr style=\"text-align: right;\">\n      <th></th>\n      <th>Order ID</th>\n      <th>Product</th>\n      <th>Quantity Ordered</th>\n      <th>Price Each</th>\n      <th>Order Date</th>\n      <th>Purchase Address</th>\n      <th>Month of Order</th>\n      <th>Total Price</th>\n    </tr>\n  </thead>\n  <tbody>\n    <tr>\n      <th>0</th>\n      <td>295665</td>\n      <td>Macbook Pro Laptop</td>\n      <td>1</td>\n      <td>1700.00</td>\n      <td>12/30/19 00:01</td>\n      <td>136 Church St, New York City, NY 10001</td>\n      <td>12</td>\n      <td>1700.00</td>\n    </tr>\n    <tr>\n      <th>1</th>\n      <td>295666</td>\n      <td>LG Washing Machine</td>\n      <td>1</td>\n      <td>600.00</td>\n      <td>12/29/19 07:03</td>\n      <td>562 2nd St, New York City, NY 10001</td>\n      <td>12</td>\n      <td>600.00</td>\n    </tr>\n    <tr>\n      <th>2</th>\n      <td>295667</td>\n      <td>USB-C Charging Cable</td>\n      <td>1</td>\n      <td>11.95</td>\n      <td>12/12/19 18:21</td>\n      <td>277 Main St, New York City, NY 10001</td>\n      <td>12</td>\n      <td>11.95</td>\n    </tr>\n    <tr>\n      <th>3</th>\n      <td>295668</td>\n      <td>27in FHD Monitor</td>\n      <td>1</td>\n      <td>149.99</td>\n      <td>12/22/19 15:13</td>\n      <td>410 6th St, San Francisco, CA 94016</td>\n      <td>12</td>\n      <td>149.99</td>\n    </tr>\n    <tr>\n      <th>4</th>\n      <td>295669</td>\n      <td>USB-C Charging Cable</td>\n      <td>1</td>\n      <td>11.95</td>\n      <td>12/18/19 12:38</td>\n      <td>43 Hill St, Atlanta, GA 30301</td>\n      <td>12</td>\n      <td>11.95</td>\n    </tr>\n  </tbody>\n</table>\n</div>"
     },
     "execution_count": 58,
     "metadata": {},
     "output_type": "execute_result"
    }
   ],
   "source": [
    "merged['Total Price'] = merged['Price Each']*merged['Quantity Ordered']\n",
    "merged.head()"
   ],
   "metadata": {
    "collapsed": false,
    "pycharm": {
     "name": "#%%\n"
    }
   }
  },
  {
   "cell_type": "code",
   "execution_count": 68,
   "outputs": [
    {
     "data": {
      "text/plain": "Month of Order\n12    4613443.34\n10    3736726.88\n4     3390670.24\n11    3199603.20\n5     3152606.75\n3     2807100.38\n7     2647775.76\n6     2577802.26\n8     2244467.88\n2     2202022.42\n9     2097560.13\n1     1822256.73\nName: Total Price, dtype: float64"
     },
     "execution_count": 68,
     "metadata": {},
     "output_type": "execute_result"
    }
   ],
   "source": [
    "sales_per_month = merged.groupby('Month of Order')['Total Price'].sum()\n",
    "sales_per_month.sort_values(ascending=False)"
   ],
   "metadata": {
    "collapsed": false,
    "pycharm": {
     "name": "#%%\n"
    }
   }
  },
  {
   "cell_type": "markdown",
   "source": [
    "### So December is the month with highest sales with $4613443.34 sales"
   ],
   "metadata": {
    "collapsed": false
   }
  },
  {
   "cell_type": "code",
   "execution_count": null,
   "outputs": [],
   "source": [],
   "metadata": {
    "collapsed": false,
    "pycharm": {
     "name": "#%%\n"
    }
   }
  }
 ],
 "metadata": {
  "kernelspec": {
   "display_name": "Python 3",
   "language": "python",
   "name": "python3"
  },
  "language_info": {
   "codemirror_mode": {
    "name": "ipython",
    "version": 2
   },
   "file_extension": ".py",
   "mimetype": "text/x-python",
   "name": "python",
   "nbconvert_exporter": "python",
   "pygments_lexer": "ipython2",
   "version": "2.7.6"
  }
 },
 "nbformat": 4,
 "nbformat_minor": 0
}